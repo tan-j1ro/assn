{
 "cells": [
  {
   "cell_type": "markdown",
   "id": "e1bd807f",
   "metadata": {},
   "source": [
    "# Artificial Intelligence in CyberSecurity\n",
    "\n",
    "## Assignment \n",
    "\n",
    "### Name: Muhammad Nashit Qureshi\n",
    "\n",
    "### Roll No. : CS-123/2022"
   ]
  },
  {
   "cell_type": "markdown",
   "id": "4d3ca8ed",
   "metadata": {},
   "source": [
    "### Objective"
   ]
  },
  {
   "cell_type": "markdown",
   "id": "640b1143",
   "metadata": {},
   "source": [
    "##### The aim of this project is to delve deeper into insights about the stock market, working with the data to build a model capable of predicting values using linear regression."
   ]
  },
  {
   "cell_type": "markdown",
   "id": "d55e419a",
   "metadata": {},
   "source": [
    "### Description"
   ]
  },
  {
   "cell_type": "markdown",
   "id": "1670d632",
   "metadata": {},
   "source": [
    "##### The dataset has stock price data of Starbucks since 26th June, 1992 till 5th Dec, 2023. The dataset consists of seven columns that represent seven unique features in the dataset about the stock market. Following is the brief explanation of what those columns represent. \n",
    "\n",
    "1. **Date**: This column represents the date of the stock market trading day. Each row corresponds to a specific date, and it's a temporal factor that allows you to track the stock's performance over time.\n",
    "\n",
    "2. **Open**: The opening price of the stock on a particular trading day. It is the price at which the first transaction occurred when the market opened.\n",
    "\n",
    "3. **High**: The highest price of the stock during the trading day. It represents the maximum price reached during that specific day.\n",
    "\n",
    "4. **Low**: The lowest price of the stock during the trading day. It represents the minimum price reached during that specific day.\n",
    "\n",
    "5. **Close**: The closing price of the stock on a particular trading day. It is the price at which the last transaction occurred when the market closed.\n",
    "\n",
    "6. **Adj Close (Adjusted Close)**: The adjusted closing price takes into account corporate actions like dividends, stock splits, and new stock offerings. It provides a more accurate reflection of the stock's value over time, especially when comparing it with historical data.\n",
    "\n",
    "7. **Volume**: The trading volume represents the total number of shares that were traded on a particular trading day. It indicates the level of market activity and liquidity.\n",
    "\n",
    "##### A summary of these features would be \n",
    "\n",
    "- **Open**: Opening price of the stock.\n",
    "- **High**: Highest price during the trading day.\n",
    "- **Low**: Lowest price during the trading day.\n",
    "- **Close**: Closing price of the stock.\n",
    "- **Adj Close**: Adjusted closing price, accounting for corporate actions.\n",
    "- **Volume**: Total number of shares traded during the day."
   ]
  },
  {
   "cell_type": "markdown",
   "id": "1b60d975",
   "metadata": {},
   "source": [
    "### Importing Libraries"
   ]
  },
  {
   "cell_type": "code",
   "execution_count": 78,
   "id": "11a2905b",
   "metadata": {},
   "outputs": [],
   "source": [
    "# Import necessary libraries\n",
    "import pandas as pd\n",
    "import numpy as np\n",
    "from sklearn.model_selection import train_test_split\n",
    "from sklearn.linear_model import LinearRegression\n",
    "from sklearn import metrics\n",
    "from sklearn.metrics import r2_score\n",
    "import matplotlib.pyplot as plt"
   ]
  },
  {
   "cell_type": "markdown",
   "id": "968c43fb",
   "metadata": {},
   "source": [
    "### Loading the Dataset"
   ]
  },
  {
   "cell_type": "code",
   "execution_count": 79,
   "id": "27ed82cd",
   "metadata": {},
   "outputs": [
    {
     "data": {
      "text/html": [
       "<div>\n",
       "<style scoped>\n",
       "    .dataframe tbody tr th:only-of-type {\n",
       "        vertical-align: middle;\n",
       "    }\n",
       "\n",
       "    .dataframe tbody tr th {\n",
       "        vertical-align: top;\n",
       "    }\n",
       "\n",
       "    .dataframe thead th {\n",
       "        text-align: right;\n",
       "    }\n",
       "</style>\n",
       "<table border=\"1\" class=\"dataframe\">\n",
       "  <thead>\n",
       "    <tr style=\"text-align: right;\">\n",
       "      <th></th>\n",
       "      <th>Date</th>\n",
       "      <th>Open</th>\n",
       "      <th>High</th>\n",
       "      <th>Low</th>\n",
       "      <th>Close</th>\n",
       "      <th>Adj Close</th>\n",
       "      <th>Volume</th>\n",
       "    </tr>\n",
       "  </thead>\n",
       "  <tbody>\n",
       "    <tr>\n",
       "      <th>0</th>\n",
       "      <td>1992-06-26</td>\n",
       "      <td>0.328125</td>\n",
       "      <td>0.347656</td>\n",
       "      <td>0.320313</td>\n",
       "      <td>0.335938</td>\n",
       "      <td>0.264262</td>\n",
       "      <td>224358400</td>\n",
       "    </tr>\n",
       "    <tr>\n",
       "      <th>1</th>\n",
       "      <td>1992-06-29</td>\n",
       "      <td>0.339844</td>\n",
       "      <td>0.367188</td>\n",
       "      <td>0.332031</td>\n",
       "      <td>0.359375</td>\n",
       "      <td>0.282698</td>\n",
       "      <td>58732800</td>\n",
       "    </tr>\n",
       "    <tr>\n",
       "      <th>2</th>\n",
       "      <td>1992-06-30</td>\n",
       "      <td>0.367188</td>\n",
       "      <td>0.371094</td>\n",
       "      <td>0.343750</td>\n",
       "      <td>0.347656</td>\n",
       "      <td>0.273479</td>\n",
       "      <td>34777600</td>\n",
       "    </tr>\n",
       "    <tr>\n",
       "      <th>3</th>\n",
       "      <td>1992-07-01</td>\n",
       "      <td>0.351563</td>\n",
       "      <td>0.359375</td>\n",
       "      <td>0.339844</td>\n",
       "      <td>0.355469</td>\n",
       "      <td>0.279625</td>\n",
       "      <td>18316800</td>\n",
       "    </tr>\n",
       "    <tr>\n",
       "      <th>4</th>\n",
       "      <td>1992-07-02</td>\n",
       "      <td>0.359375</td>\n",
       "      <td>0.359375</td>\n",
       "      <td>0.347656</td>\n",
       "      <td>0.355469</td>\n",
       "      <td>0.279625</td>\n",
       "      <td>13996800</td>\n",
       "    </tr>\n",
       "    <tr>\n",
       "      <th>5</th>\n",
       "      <td>1992-07-06</td>\n",
       "      <td>0.351563</td>\n",
       "      <td>0.355469</td>\n",
       "      <td>0.347656</td>\n",
       "      <td>0.355469</td>\n",
       "      <td>0.279625</td>\n",
       "      <td>5753600</td>\n",
       "    </tr>\n",
       "    <tr>\n",
       "      <th>6</th>\n",
       "      <td>1992-07-07</td>\n",
       "      <td>0.355469</td>\n",
       "      <td>0.355469</td>\n",
       "      <td>0.347656</td>\n",
       "      <td>0.355469</td>\n",
       "      <td>0.279625</td>\n",
       "      <td>10662400</td>\n",
       "    </tr>\n",
       "    <tr>\n",
       "      <th>7</th>\n",
       "      <td>1992-07-08</td>\n",
       "      <td>0.355469</td>\n",
       "      <td>0.355469</td>\n",
       "      <td>0.343750</td>\n",
       "      <td>0.347656</td>\n",
       "      <td>0.273479</td>\n",
       "      <td>15500800</td>\n",
       "    </tr>\n",
       "    <tr>\n",
       "      <th>8</th>\n",
       "      <td>1992-07-09</td>\n",
       "      <td>0.351563</td>\n",
       "      <td>0.359375</td>\n",
       "      <td>0.347656</td>\n",
       "      <td>0.359375</td>\n",
       "      <td>0.282698</td>\n",
       "      <td>3923200</td>\n",
       "    </tr>\n",
       "    <tr>\n",
       "      <th>9</th>\n",
       "      <td>1992-07-10</td>\n",
       "      <td>0.359375</td>\n",
       "      <td>0.367188</td>\n",
       "      <td>0.351563</td>\n",
       "      <td>0.363281</td>\n",
       "      <td>0.285771</td>\n",
       "      <td>11040000</td>\n",
       "    </tr>\n",
       "  </tbody>\n",
       "</table>\n",
       "</div>"
      ],
      "text/plain": [
       "         Date      Open      High       Low     Close  Adj Close     Volume\n",
       "0  1992-06-26  0.328125  0.347656  0.320313  0.335938   0.264262  224358400\n",
       "1  1992-06-29  0.339844  0.367188  0.332031  0.359375   0.282698   58732800\n",
       "2  1992-06-30  0.367188  0.371094  0.343750  0.347656   0.273479   34777600\n",
       "3  1992-07-01  0.351563  0.359375  0.339844  0.355469   0.279625   18316800\n",
       "4  1992-07-02  0.359375  0.359375  0.347656  0.355469   0.279625   13996800\n",
       "5  1992-07-06  0.351563  0.355469  0.347656  0.355469   0.279625    5753600\n",
       "6  1992-07-07  0.355469  0.355469  0.347656  0.355469   0.279625   10662400\n",
       "7  1992-07-08  0.355469  0.355469  0.343750  0.347656   0.273479   15500800\n",
       "8  1992-07-09  0.351563  0.359375  0.347656  0.359375   0.282698    3923200\n",
       "9  1992-07-10  0.359375  0.367188  0.351563  0.363281   0.285771   11040000"
      ]
     },
     "execution_count": 79,
     "metadata": {},
     "output_type": "execute_result"
    }
   ],
   "source": [
    "# Load the dataset\n",
    "df = pd.read_csv('C:/Users/ESHOP/Desktop/AI in Cys Assignment/SBUX.csv')\n",
    "\n",
    "# Read the dataset\n",
    "df.head(10)"
   ]
  },
  {
   "cell_type": "markdown",
   "id": "744db6a0",
   "metadata": {},
   "source": [
    "### Adding a New Column for Year"
   ]
  },
  {
   "cell_type": "code",
   "execution_count": 80,
   "id": "08550079",
   "metadata": {},
   "outputs": [
    {
     "data": {
      "text/html": [
       "<div>\n",
       "<style scoped>\n",
       "    .dataframe tbody tr th:only-of-type {\n",
       "        vertical-align: middle;\n",
       "    }\n",
       "\n",
       "    .dataframe tbody tr th {\n",
       "        vertical-align: top;\n",
       "    }\n",
       "\n",
       "    .dataframe thead th {\n",
       "        text-align: right;\n",
       "    }\n",
       "</style>\n",
       "<table border=\"1\" class=\"dataframe\">\n",
       "  <thead>\n",
       "    <tr style=\"text-align: right;\">\n",
       "      <th></th>\n",
       "      <th>Date</th>\n",
       "      <th>Open</th>\n",
       "      <th>High</th>\n",
       "      <th>Low</th>\n",
       "      <th>Close</th>\n",
       "      <th>Adj Close</th>\n",
       "      <th>Volume</th>\n",
       "      <th>Year</th>\n",
       "    </tr>\n",
       "  </thead>\n",
       "  <tbody>\n",
       "    <tr>\n",
       "      <th>0</th>\n",
       "      <td>1992-06-26</td>\n",
       "      <td>0.328125</td>\n",
       "      <td>0.347656</td>\n",
       "      <td>0.320313</td>\n",
       "      <td>0.335938</td>\n",
       "      <td>0.264262</td>\n",
       "      <td>224358400</td>\n",
       "      <td>1992</td>\n",
       "    </tr>\n",
       "    <tr>\n",
       "      <th>1</th>\n",
       "      <td>1992-06-29</td>\n",
       "      <td>0.339844</td>\n",
       "      <td>0.367188</td>\n",
       "      <td>0.332031</td>\n",
       "      <td>0.359375</td>\n",
       "      <td>0.282698</td>\n",
       "      <td>58732800</td>\n",
       "      <td>1992</td>\n",
       "    </tr>\n",
       "    <tr>\n",
       "      <th>2</th>\n",
       "      <td>1992-06-30</td>\n",
       "      <td>0.367188</td>\n",
       "      <td>0.371094</td>\n",
       "      <td>0.343750</td>\n",
       "      <td>0.347656</td>\n",
       "      <td>0.273479</td>\n",
       "      <td>34777600</td>\n",
       "      <td>1992</td>\n",
       "    </tr>\n",
       "    <tr>\n",
       "      <th>3</th>\n",
       "      <td>1992-07-01</td>\n",
       "      <td>0.351563</td>\n",
       "      <td>0.359375</td>\n",
       "      <td>0.339844</td>\n",
       "      <td>0.355469</td>\n",
       "      <td>0.279625</td>\n",
       "      <td>18316800</td>\n",
       "      <td>1992</td>\n",
       "    </tr>\n",
       "    <tr>\n",
       "      <th>4</th>\n",
       "      <td>1992-07-02</td>\n",
       "      <td>0.359375</td>\n",
       "      <td>0.359375</td>\n",
       "      <td>0.347656</td>\n",
       "      <td>0.355469</td>\n",
       "      <td>0.279625</td>\n",
       "      <td>13996800</td>\n",
       "      <td>1992</td>\n",
       "    </tr>\n",
       "    <tr>\n",
       "      <th>5</th>\n",
       "      <td>1992-07-06</td>\n",
       "      <td>0.351563</td>\n",
       "      <td>0.355469</td>\n",
       "      <td>0.347656</td>\n",
       "      <td>0.355469</td>\n",
       "      <td>0.279625</td>\n",
       "      <td>5753600</td>\n",
       "      <td>1992</td>\n",
       "    </tr>\n",
       "    <tr>\n",
       "      <th>6</th>\n",
       "      <td>1992-07-07</td>\n",
       "      <td>0.355469</td>\n",
       "      <td>0.355469</td>\n",
       "      <td>0.347656</td>\n",
       "      <td>0.355469</td>\n",
       "      <td>0.279625</td>\n",
       "      <td>10662400</td>\n",
       "      <td>1992</td>\n",
       "    </tr>\n",
       "    <tr>\n",
       "      <th>7</th>\n",
       "      <td>1992-07-08</td>\n",
       "      <td>0.355469</td>\n",
       "      <td>0.355469</td>\n",
       "      <td>0.343750</td>\n",
       "      <td>0.347656</td>\n",
       "      <td>0.273479</td>\n",
       "      <td>15500800</td>\n",
       "      <td>1992</td>\n",
       "    </tr>\n",
       "    <tr>\n",
       "      <th>8</th>\n",
       "      <td>1992-07-09</td>\n",
       "      <td>0.351563</td>\n",
       "      <td>0.359375</td>\n",
       "      <td>0.347656</td>\n",
       "      <td>0.359375</td>\n",
       "      <td>0.282698</td>\n",
       "      <td>3923200</td>\n",
       "      <td>1992</td>\n",
       "    </tr>\n",
       "    <tr>\n",
       "      <th>9</th>\n",
       "      <td>1992-07-10</td>\n",
       "      <td>0.359375</td>\n",
       "      <td>0.367188</td>\n",
       "      <td>0.351563</td>\n",
       "      <td>0.363281</td>\n",
       "      <td>0.285771</td>\n",
       "      <td>11040000</td>\n",
       "      <td>1992</td>\n",
       "    </tr>\n",
       "  </tbody>\n",
       "</table>\n",
       "</div>"
      ],
      "text/plain": [
       "        Date      Open      High       Low     Close  Adj Close     Volume  \\\n",
       "0 1992-06-26  0.328125  0.347656  0.320313  0.335938   0.264262  224358400   \n",
       "1 1992-06-29  0.339844  0.367188  0.332031  0.359375   0.282698   58732800   \n",
       "2 1992-06-30  0.367188  0.371094  0.343750  0.347656   0.273479   34777600   \n",
       "3 1992-07-01  0.351563  0.359375  0.339844  0.355469   0.279625   18316800   \n",
       "4 1992-07-02  0.359375  0.359375  0.347656  0.355469   0.279625   13996800   \n",
       "5 1992-07-06  0.351563  0.355469  0.347656  0.355469   0.279625    5753600   \n",
       "6 1992-07-07  0.355469  0.355469  0.347656  0.355469   0.279625   10662400   \n",
       "7 1992-07-08  0.355469  0.355469  0.343750  0.347656   0.273479   15500800   \n",
       "8 1992-07-09  0.351563  0.359375  0.347656  0.359375   0.282698    3923200   \n",
       "9 1992-07-10  0.359375  0.367188  0.351563  0.363281   0.285771   11040000   \n",
       "\n",
       "   Year  \n",
       "0  1992  \n",
       "1  1992  \n",
       "2  1992  \n",
       "3  1992  \n",
       "4  1992  \n",
       "5  1992  \n",
       "6  1992  \n",
       "7  1992  \n",
       "8  1992  \n",
       "9  1992  "
      ]
     },
     "execution_count": 80,
     "metadata": {},
     "output_type": "execute_result"
    }
   ],
   "source": [
    "df['Date'] = pd.to_datetime(df['Date'])\n",
    "df['Year'] = df['Date'].dt.year\n",
    "\n",
    "df.head(10)"
   ]
  },
  {
   "cell_type": "markdown",
   "id": "31e5f159",
   "metadata": {},
   "source": [
    "### Description of the Data\n",
    "\n",
    "##### The description shows the count, mean, standard deviation, minimum value in the column, first quartile, median, third quartile and the max value in the column."
   ]
  },
  {
   "cell_type": "code",
   "execution_count": 81,
   "id": "e89d43c8",
   "metadata": {},
   "outputs": [
    {
     "data": {
      "text/html": [
       "<div>\n",
       "<style scoped>\n",
       "    .dataframe tbody tr th:only-of-type {\n",
       "        vertical-align: middle;\n",
       "    }\n",
       "\n",
       "    .dataframe tbody tr th {\n",
       "        vertical-align: top;\n",
       "    }\n",
       "\n",
       "    .dataframe thead th {\n",
       "        text-align: right;\n",
       "    }\n",
       "</style>\n",
       "<table border=\"1\" class=\"dataframe\">\n",
       "  <thead>\n",
       "    <tr style=\"text-align: right;\">\n",
       "      <th></th>\n",
       "      <th>Open</th>\n",
       "      <th>High</th>\n",
       "      <th>Low</th>\n",
       "      <th>Close</th>\n",
       "      <th>Adj Close</th>\n",
       "      <th>Volume</th>\n",
       "      <th>Year</th>\n",
       "    </tr>\n",
       "  </thead>\n",
       "  <tbody>\n",
       "    <tr>\n",
       "      <th>count</th>\n",
       "      <td>7919.000000</td>\n",
       "      <td>7919.000000</td>\n",
       "      <td>7919.000000</td>\n",
       "      <td>7919.000000</td>\n",
       "      <td>7919.000000</td>\n",
       "      <td>7.919000e+03</td>\n",
       "      <td>7919.000000</td>\n",
       "    </tr>\n",
       "    <tr>\n",
       "      <th>mean</th>\n",
       "      <td>29.167637</td>\n",
       "      <td>29.458891</td>\n",
       "      <td>28.872252</td>\n",
       "      <td>29.173403</td>\n",
       "      <td>26.102653</td>\n",
       "      <td>1.477757e+07</td>\n",
       "      <td>2007.693269</td>\n",
       "    </tr>\n",
       "    <tr>\n",
       "      <th>std</th>\n",
       "      <td>33.045900</td>\n",
       "      <td>33.335687</td>\n",
       "      <td>32.749218</td>\n",
       "      <td>33.048777</td>\n",
       "      <td>31.446692</td>\n",
       "      <td>1.345930e+07</td>\n",
       "      <td>9.085794</td>\n",
       "    </tr>\n",
       "    <tr>\n",
       "      <th>min</th>\n",
       "      <td>0.328125</td>\n",
       "      <td>0.347656</td>\n",
       "      <td>0.320313</td>\n",
       "      <td>0.335938</td>\n",
       "      <td>0.264262</td>\n",
       "      <td>1.504000e+06</td>\n",
       "      <td>1992.000000</td>\n",
       "    </tr>\n",
       "    <tr>\n",
       "      <th>25%</th>\n",
       "      <td>4.323750</td>\n",
       "      <td>4.447500</td>\n",
       "      <td>4.224531</td>\n",
       "      <td>4.330312</td>\n",
       "      <td>3.406388</td>\n",
       "      <td>7.882600e+06</td>\n",
       "      <td>2000.000000</td>\n",
       "    </tr>\n",
       "    <tr>\n",
       "      <th>50%</th>\n",
       "      <td>13.090000</td>\n",
       "      <td>13.240000</td>\n",
       "      <td>12.957500</td>\n",
       "      <td>13.095000</td>\n",
       "      <td>10.328559</td>\n",
       "      <td>1.179460e+07</td>\n",
       "      <td>2008.000000</td>\n",
       "    </tr>\n",
       "    <tr>\n",
       "      <th>75%</th>\n",
       "      <td>54.330002</td>\n",
       "      <td>54.745001</td>\n",
       "      <td>53.919998</td>\n",
       "      <td>54.410000</td>\n",
       "      <td>47.360496</td>\n",
       "      <td>1.786600e+07</td>\n",
       "      <td>2016.000000</td>\n",
       "    </tr>\n",
       "    <tr>\n",
       "      <th>max</th>\n",
       "      <td>126.080002</td>\n",
       "      <td>126.320000</td>\n",
       "      <td>124.809998</td>\n",
       "      <td>126.059998</td>\n",
       "      <td>119.621147</td>\n",
       "      <td>5.855088e+08</td>\n",
       "      <td>2023.000000</td>\n",
       "    </tr>\n",
       "  </tbody>\n",
       "</table>\n",
       "</div>"
      ],
      "text/plain": [
       "              Open         High          Low        Close    Adj Close  \\\n",
       "count  7919.000000  7919.000000  7919.000000  7919.000000  7919.000000   \n",
       "mean     29.167637    29.458891    28.872252    29.173403    26.102653   \n",
       "std      33.045900    33.335687    32.749218    33.048777    31.446692   \n",
       "min       0.328125     0.347656     0.320313     0.335938     0.264262   \n",
       "25%       4.323750     4.447500     4.224531     4.330312     3.406388   \n",
       "50%      13.090000    13.240000    12.957500    13.095000    10.328559   \n",
       "75%      54.330002    54.745001    53.919998    54.410000    47.360496   \n",
       "max     126.080002   126.320000   124.809998   126.059998   119.621147   \n",
       "\n",
       "             Volume         Year  \n",
       "count  7.919000e+03  7919.000000  \n",
       "mean   1.477757e+07  2007.693269  \n",
       "std    1.345930e+07     9.085794  \n",
       "min    1.504000e+06  1992.000000  \n",
       "25%    7.882600e+06  2000.000000  \n",
       "50%    1.179460e+07  2008.000000  \n",
       "75%    1.786600e+07  2016.000000  \n",
       "max    5.855088e+08  2023.000000  "
      ]
     },
     "execution_count": 81,
     "metadata": {},
     "output_type": "execute_result"
    }
   ],
   "source": [
    "df.describe()"
   ]
  },
  {
   "cell_type": "markdown",
   "id": "feccc59f",
   "metadata": {},
   "source": [
    "### Distribution of Data\n",
    "\n",
    "##### The following is the distribution of data of all the columns that shows the variation in the data."
   ]
  },
  {
   "cell_type": "code",
   "execution_count": 82,
   "id": "69aa20de",
   "metadata": {},
   "outputs": [
    {
     "data": {
      "text/plain": [
       "<Figure size 2160x1440 with 0 Axes>"
      ]
     },
     "metadata": {},
     "output_type": "display_data"
    },
    {
     "data": {
      "image/png": "[encoded data removed]",
      "text/plain": [
       "<Figure size 432x288 with 6 Axes>"
      ]
     },
     "metadata": {
      "needs_background": "light"
     },
     "output_type": "display_data"
    }
   ],
   "source": [
    "selected_columns = ['Open', 'High', 'Low', 'Close', 'Adj Close', 'Volume'] # for specific columns\n",
    "\n",
    "plt.figure(figsize=(30, 20))\n",
    "df[selected_columns].hist(bins=20, edgecolor='black', layout=(3, 2))\n",
    "plt.tight_layout() # for better spacing\n",
    "plt.show()"
   ]
  },
  {
   "cell_type": "markdown",
   "id": "a21a17ff",
   "metadata": {},
   "source": [
    "### Plots\n",
    "\n",
    "##### First plot is between Open value of the stock on a certain day against the Close value of the stock on the same day. "
   ]
  },
  {
   "cell_type": "code",
   "execution_count": 83,
   "id": "afeb6c13",
   "metadata": {},
   "outputs": [
    {
     "data": {
      "image/png": "[encoded data removed]",
      "text/plain": [
       "<Figure size 864x576 with 1 Axes>"
      ]
     },
     "metadata": {
      "needs_background": "light"
     },
     "output_type": "display_data"
    }
   ],
   "source": [
    "plt.figure(figsize=(12, 8))\n",
    "plt.scatter(df.Open,df.Close,color='blue')\n",
    "plt.xlabel(\"Open\")\n",
    "plt.ylabel(\"Close\")\n",
    "plt.show()"
   ]
  },
  {
   "cell_type": "markdown",
   "id": "deef5af3",
   "metadata": {},
   "source": [
    "##### Second plot is between Highest value of the stock on a certain day against the Lowest value of the stock on the same day. "
   ]
  },
  {
   "cell_type": "code",
   "execution_count": 84,
   "id": "c9ac587b",
   "metadata": {},
   "outputs": [
    {
     "data": {
      "image/png": "[encoded data removed]",
      "text/plain": [
       "<Figure size 864x576 with 1 Axes>"
      ]
     },
     "metadata": {
      "needs_background": "light"
     },
     "output_type": "display_data"
    }
   ],
   "source": [
    "plt.figure(figsize=(12, 8))\n",
    "plt.scatter(df.High,df.Low,color='blue')\n",
    "plt.xlabel(\"High\")\n",
    "plt.ylabel(\"Low\")\n",
    "plt.show()"
   ]
  },
  {
   "cell_type": "markdown",
   "id": "1fce56b4",
   "metadata": {},
   "source": [
    "##### Third plot is between Year against the Closing values of the stock."
   ]
  },
  {
   "cell_type": "code",
   "execution_count": 85,
   "id": "e7d23fd2",
   "metadata": {},
   "outputs": [
    {
     "data": {
      "image/png": "[encoded data removed]",
      "text/plain": [
       "<Figure size 864x576 with 1 Axes>"
      ]
     },
     "metadata": {
      "needs_background": "light"
     },
     "output_type": "display_data"
    }
   ],
   "source": [
    "plt.figure(figsize=(12, 8))\n",
    "plt.scatter(df.Year,df.Close,color='blue')\n",
    "plt.xlabel(\"Year\")\n",
    "plt.ylabel(\"Close\")\n",
    "plt.show()"
   ]
  },
  {
   "cell_type": "markdown",
   "id": "51e6b13c",
   "metadata": {},
   "source": [
    "##### Fourth plot is between Year against the Adjusted Closing values of the stock."
   ]
  },
  {
   "cell_type": "code",
   "execution_count": 86,
   "id": "f5e19a99",
   "metadata": {},
   "outputs": [
    {
     "data": {
      "image/png": "[encoded data removed]",
      "text/plain": [
       "<Figure size 864x576 with 1 Axes>"
      ]
     },
     "metadata": {
      "needs_background": "light"
     },
     "output_type": "display_data"
    }
   ],
   "source": [
    "plt.figure(figsize=(12, 8))\n",
    "plt.scatter(df['Year'], df['Adj Close'], color='blue')\n",
    "plt.xlabel(\"Year\")\n",
    "plt.ylabel(\"Adj Close\")\n",
    "plt.show()"
   ]
  },
  {
   "cell_type": "markdown",
   "id": "b7c64daf",
   "metadata": {},
   "source": [
    "##### Fifth plot is between Closing values of the stock against the Adjusted Closing values of the stock."
   ]
  },
  {
   "cell_type": "code",
   "execution_count": 87,
   "id": "b5b5e700",
   "metadata": {},
   "outputs": [
    {
     "data": {
      "image/png": "[encoded data removed]",
      "text/plain": [
       "<Figure size 864x576 with 1 Axes>"
      ]
     },
     "metadata": {
      "needs_background": "light"
     },
     "output_type": "display_data"
    }
   ],
   "source": [
    "plt.figure(figsize=(12, 8))\n",
    "\n",
    "plt.scatter(df['Close'], df['Adj Close'], color='blue')\n",
    "plt.xlabel(\"Close\")\n",
    "plt.ylabel(\"Adj Close\")\n",
    "plt.show()"
   ]
  },
  {
   "cell_type": "markdown",
   "id": "55c891bf",
   "metadata": {},
   "source": [
    "##### Sixth plot compares both the Closing Values and Adjusting Values of the Stock against Year."
   ]
  },
  {
   "cell_type": "code",
   "execution_count": 88,
   "id": "1855140f",
   "metadata": {},
   "outputs": [
    {
     "data": {
      "image/png": "[encoded data removed]",
      "text/plain": [
       "<Figure size 864x576 with 1 Axes>"
      ]
     },
     "metadata": {
      "needs_background": "light"
     },
     "output_type": "display_data"
    }
   ],
   "source": [
    "import matplotlib.pyplot as plt\n",
    "\n",
    "plt.figure(figsize=(12, 8))\n",
    "\n",
    "plt.scatter(df['Year'], df['Close'], color='red', label='Close')\n",
    "plt.scatter(df['Year'], df['Adj Close'], color='blue', label='Adj Close')\n",
    "\n",
    "plt.xlabel(\"Year\")\n",
    "plt.ylabel(\"Price\")\n",
    "plt.legend()\n",
    "plt.show()"
   ]
  },
  {
   "cell_type": "markdown",
   "id": "5200fb61",
   "metadata": {},
   "source": [
    "### Feature Selection for Model"
   ]
  },
  {
   "cell_type": "code",
   "execution_count": 89,
   "id": "6629ff32",
   "metadata": {},
   "outputs": [],
   "source": [
    "# Select relevant features (independent variables) and target variable (dependent variable)\n",
    "features = df[['Open', 'High', 'Low', 'Volume']] \n",
    "target = df['Close']"
   ]
  },
  {
   "cell_type": "markdown",
   "id": "5164ca00",
   "metadata": {},
   "source": [
    "### Training the Model"
   ]
  },
  {
   "cell_type": "code",
   "execution_count": 90,
   "id": "2517dcdc",
   "metadata": {},
   "outputs": [
    {
     "name": "stdout",
     "output_type": "stream",
     "text": [
      "Coefficients:  [-5.71229404e-01  8.17858909e-01  7.53025679e-01  3.60720306e-11]\n",
      "Intercept:  -0.0008291466857315299\n"
     ]
    }
   ],
   "source": [
    "# Split the data into training and testing sets\n",
    "X_train, X_test, y_train, y_test = train_test_split(features, target, test_size=0.2, random_state=42)\n",
    "\n",
    "# Initialize the linear regression model\n",
    "model = LinearRegression()\n",
    "\n",
    "# Train the model on the training set\n",
    "model.fit(X_train, y_train)\n",
    "\n",
    "# Print the Coefficients and the Intercept \n",
    "print ('Coefficients: ', model.coef_)\n",
    "print ('Intercept: ', model.intercept_)"
   ]
  },
  {
   "cell_type": "markdown",
   "id": "4bf846a5",
   "metadata": {},
   "source": [
    "### Testing the Model"
   ]
  },
  {
   "cell_type": "code",
   "execution_count": 91,
   "id": "46608502",
   "metadata": {},
   "outputs": [
    {
     "data": {
      "image/png": "[encoded data removed]",
      "text/plain": [
       "<Figure size 864x576 with 1 Axes>"
      ]
     },
     "metadata": {
      "needs_background": "light"
     },
     "output_type": "display_data"
    }
   ],
   "source": [
    "# Make predictions on the testing set\n",
    "y_pred = model.predict(X_test)\n",
    "\n",
    "# Visualize the predicted vs. actual prices\n",
    "\n",
    "plt.figure(figsize=(12, 8))\n",
    "plt.scatter(X_test['Open'], y_test, color='red', label='Actual Prices')\n",
    "plt.scatter(X_test['Open'], y_pred, color='blue', label='Predicted Prices')\n",
    "plt.xlabel('Open Price')\n",
    "plt.ylabel('Close Price')\n",
    "plt.legend()\n",
    "plt.show()"
   ]
  },
  {
   "cell_type": "markdown",
   "id": "b7d2b335",
   "metadata": {},
   "source": [
    "### Evaluation of the Model"
   ]
  },
  {
   "cell_type": "code",
   "execution_count": 92,
   "id": "7b419576",
   "metadata": {},
   "outputs": [
    {
     "name": "stdout",
     "output_type": "stream",
     "text": [
      "Mean Absolute Error: 0.1197024437399309\n",
      "Mean Squared Error: 0.048258280737892525\n",
      "Root Mean Squared Error: 0.21967767464604254\n",
      "R2 Score 0.9999551840180824\n"
     ]
    }
   ],
   "source": [
    "# Evaluate the model performance\n",
    "print('Mean Absolute Error:', metrics.mean_absolute_error(y_test, y_pred))\n",
    "print('Mean Squared Error:', metrics.mean_squared_error(y_test, y_pred))\n",
    "print('Root Mean Squared Error:', np.sqrt(metrics.mean_squared_error(y_test, y_pred)))\n",
    "print('R2 Score' , metrics.r2_score(y_test, y_pred))\n",
    "\n"
   ]
  },
  {
   "cell_type": "markdown",
   "id": "8a19d16a",
   "metadata": {},
   "source": [
    "### Conclusion"
   ]
  },
  {
   "cell_type": "markdown",
   "id": "718b9ed1",
   "metadata": {},
   "source": [
    "##### The R2 score is a measure of how well the independent variable explain the variability in the dependent variable. The R2 score of the model used in this project suggests that the model is perfectly fit and can provide accurate results if there is not much variance in the data. Furthermore the errors provide more insight into the predictive accuracy of the model."
   ]
  }
 ],
 "metadata": {
  "kernelspec": {
   "display_name": "Python 3 (ipykernel)",
   "language": "python",
   "name": "python3"
  },
  "language_info": {
   "codemirror_mode": {
    "name": "ipython",
    "version": 3
   },
   "file_extension": ".py",
   "mimetype": "text/x-python",
   "name": "python",
   "nbconvert_exporter": "python",
   "pygments_lexer": "ipython3",
   "version": "3.9.12"
  }
 },
 "nbformat": 4,
 "nbformat_minor": 5
}
